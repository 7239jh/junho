{
 "cells": [
  {
   "cell_type": "code",
   "execution_count": null,
   "metadata": {},
   "outputs": [],
   "source": [
    "import pandas as pd\n",
    "import os\n",
    "\n",
    "# 폴더 경로 지정\n",
    "folder_path = ''\n",
    "\n",
    "# 폴더 내의 모든 파일명을 리스트로 저장\n",
    "file_list = os.listdir(folder_path)\n",
    "\n",
    "# 모든 파일 데이터를 저장할 빈 데이터프레임 생성\n",
    "all_data = pd.DataFrame()\n",
    "\n",
    "# 폴더 내의 모든 파일을 loop를 통해 데이터를 concat\n",
    "for file_name in file_list:\n",
    "    file_path = os.path.join(folder_path, file_name)\n",
    "    data = pd.read_excel(file_path)  # 파일 읽기\n",
    "    all_data = pd.concat([all_data, data], ignore_index=True)  # 데이터 추가\n",
    "    \n",
    "# 결과 출력\n",
    "print(all_data)"
   ]
  }
 ],
 "metadata": {
  "language_info": {
   "name": "python"
  },
  "orig_nbformat": 4
 },
 "nbformat": 4,
 "nbformat_minor": 2
}
